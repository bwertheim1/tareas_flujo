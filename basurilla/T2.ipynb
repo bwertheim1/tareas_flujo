{
 "cells": [
  {
   "cell_type": "code",
   "execution_count": 187,
   "metadata": {},
   "outputs": [],
   "source": [
    "from t2_flujo import *\n",
    "import folium\n",
    "import matplotlib.pyplot as plt\n",
    "import funciones\n",
    "import parametros"
   ]
  },
  {
   "cell_type": "markdown",
   "metadata": {},
   "source": [
    "## de todo"
   ]
  },
  {
   "cell_type": "code",
   "execution_count": 188,
   "metadata": {},
   "outputs": [],
   "source": [
    "N = []\n",
    "for a in range(len(nodos_totales)):\n",
    "    lista = nodos_totales.loc[a].to_list()\n",
    "    nodo = funciones.Node(lista[0], lista[1], lista[2], lista[3], lista[4])\n",
    "    N.append(nodo)\n",
    "\n",
    "# DICCIONARIO DE ID EN EL MAPA Y EL ID QUE LE PUSE A LOS NODOS\n",
    "\n",
    "ids = nodos_totales['id_nodo'].to_list()\n",
    "nombres = nodos_totales['id'].to_list()\n",
    "\n",
    "dict_ids_nombres = {}\n",
    "\n",
    "for a in range(len(ids)):\n",
    "    dict_ids_nombres[ids[a]] = nombres[a]\n",
    "\n",
    "for a in range(1,parametros.P+1):\n",
    "    nombres.append(f'PB{a}')"
   ]
  },
  {
   "cell_type": "code",
   "execution_count": 189,
   "metadata": {},
   "outputs": [],
   "source": [
    "# Como se especifica que el transporte es desde los nodos de produccion a bodegas y demanda, y de los nodos\n",
    "# de bodega a los nodos de demanda, elimino los arcos que no sirven para del grafo de todos los nodos conectados entre si.\n",
    "\n",
    "# list(grafo_vial.edges(data=True))[par][origen/destino]\n",
    "grafo_vial_nuevo = grafo_vial.copy()\n",
    "lista_pares_nodos = list(grafo_vial_nuevo.edges())\n",
    "\n",
    "for b in range(len(lista_pares_nodos)):\n",
    "    a = lista_pares_nodos[b]\n",
    "    \n",
    "    O = nodos_totales[nodos_totales['id_nodo'] == a[0]]\n",
    "    O_pos = O.index[0]\n",
    "\n",
    "    D = nodos_totales[nodos_totales['id_nodo'] == a[1]]\n",
    "    D_pos = D.index[0]\n",
    "\n",
    "    if O['tipo'][O_pos] == D['tipo'][D_pos]:\n",
    "        grafo_vial_nuevo.remove_edge(O['id_nodo'][O_pos],D['id_nodo'][D_pos])\n",
    "    \n",
    "    elif O['tipo'][O_pos] == 'demanda':\n",
    "        grafo_vial_nuevo.remove_edge(O['id_nodo'][O_pos], D['id_nodo'][D_pos])\n",
    "\n",
    "info_tipo_nodo = list(dict(grafo_vial_nuevo.nodes(data=True)).values())"
   ]
  },
  {
   "cell_type": "code",
   "execution_count": 190,
   "metadata": {},
   "outputs": [],
   "source": [
    "# Las rutas minimas entre los nodos (todo el grafo se demora 1 min aprox)\n",
    "r_min = funciones.rutas_min(grafo_vial_nuevo, parametros.G, len(list(grafo_vial_nuevo.edges())))\n",
    "#graficar_rutas_min_n(r_min[0], G, 100)"
   ]
  },
  {
   "cell_type": "code",
   "execution_count": 191,
   "metadata": {},
   "outputs": [],
   "source": [
    "# matriz de costos con las distancias entre los nodos en el mapa\n",
    "matriz_costos = []\n",
    "lista_arcos = list(grafo_vial_nuevo.edges(data=True))\n",
    "\n",
    "for a in range(len(r_min[0])):\n",
    "    matriz_costos.append([dict_ids_nombres[lista_arcos[a][0]],\n",
    "                         dict_ids_nombres[lista_arcos[a][1]],\n",
    "                         r_min[1][a],\n",
    "                         r_min[0][a]])"
   ]
  },
  {
   "cell_type": "code",
   "execution_count": 192,
   "metadata": {},
   "outputs": [],
   "source": [
    "matriz_costos_prod_dem = pd.DataFrame(columns=['origen', 'destino', 'distancia', 'ruta'])\n",
    "matriz_costos_prod_bod = pd.DataFrame(columns=['origen', 'destino', 'distancia', 'ruta'])\n",
    "matriz_costos_bod_dem = pd.DataFrame(columns=['origen', 'destino', 'distancia', 'ruta'])\n",
    "\n",
    "for a in matriz_costos:\n",
    "    if 'P' in a[0]:\n",
    "        if 'D' in a[1]:\n",
    "            matriz_costos_prod_dem = matriz_costos_prod_dem._append({'origen':a[0], 'destino':a[1], 'distancia':a[2], 'ruta':a[3]}, ignore_index=True)\n",
    "        elif 'B' in a[1]:\n",
    "            matriz_costos_prod_bod = matriz_costos_prod_bod._append({'origen':a[0], 'destino':a[1], 'distancia':a[2], 'ruta':a[3]}, ignore_index=True)\n",
    "    if 'B' in a[0]:\n",
    "        matriz_costos_bod_dem = matriz_costos_bod_dem._append({'origen':a[0], 'destino':a[1], 'distancia':a[2], 'ruta':a[3]}, ignore_index=True)"
   ]
  },
  {
   "cell_type": "markdown",
   "metadata": {},
   "source": [
    "## creacion de arcos y nodos"
   ]
  },
  {
   "cell_type": "markdown",
   "metadata": {},
   "source": []
  },
  {
   "cell_type": "markdown",
   "metadata": {},
   "source": [
    "**Arcos**   \n",
    "||tipo|arco|parámetros|\n",
    "|-|-|---------|-------------|\n",
    "|a.|generacion|(s, P<sub>i,0</sub>)| (0,I<sub>i</sub><sup>0</sup>, I<sub>i</sub><sup>0</sup>)|\n",
    "|b.|generacion|(s, B<sub>j,0</sub>)| (0,I<sub>i</sub><sup>0</sup>, I<sub>i</sub><sup>0</sup>)|\n",
    "|c.|generacion|(s, P<sub>i,t</sub>)| (0,L<sub>i,t</sub><sup>prod</sup>, u<sub>i,t</sub><sup>prod</sup>)|\n",
    "|d.|envio|(P<sub>i,t</sub> , A<sub>k,t</sub>)| (d*c<sup>tte</sup>, l<sub>k, t</sub><sup>dda</sup>, u<sub>k, t</sub><sup>dda</sup>)|\n",
    "|e.|envio|(P<sub>i,t</sub> , B<sub>j,t</sub>)| (d*c<sup>tte</sup>, 0, u<sub>k, t</sub>)|\n",
    "|f.|envio|(P<sub>i,0</sub> , P<sub>i,1</sub>)| (0, 0, &infin;)|\n",
    "|g.|inventario|(P<sub>i,t</sub> , P<sub>i,t+1</sub>)| (c<sub>i,t</sub><sup>prod</sup> + c<sub>i,t</sub><sup>inv</sup>, 0, u<sub>i, t</sub><sup>inv</sup>)|\n",
    "|h.|inventario|(B<sub>j,t</sub> , B<sub>j,t+1</sub>)|(c<sub>j,t</sub><sup>inv</sup>, 0, u<sub>j,t</sub><sup>inv</sup>)|\n",
    "|i.|atracción|(A<sub>k,t</sub> , t)|(A<sub>k,t</sub> , 0, &infin;)|\n",
    "|j.|circulación|(t,s)|(0, 0, &infin;)|\n",
    "\n",
    "**Nodos**\n",
    "\n",
    "Los nodos (antes de la transformación) son:\n",
    "||nodo|b(i)|descripción|\n",
    "|-|-|-|-|\n",
    "|a.|P<sub>i,0</sub>|0|nodo de producción i con el inventario inicial|\n",
    "|b.|P<sub>i,t</sub>|0|nodo de producción i en el periodo t|\n",
    "|c.|B<sub>j,1</sub>|0|nodo de almacenamiento j en el periodo 1|\n",
    "|d.|B<sub>j,t</sub>|0|nodo de almacenamiento j en el periodo t|\n",
    "|e.|A<sub>k,t</sub>|0|nodo de demanda k en el periodo t|\n",
    "|f.|s|0|nodo fuente, atemporal|\n",
    "|g.|t|0|nodo sumidero, atemporal|"
   ]
  },
  {
   "cell_type": "markdown",
   "metadata": {},
   "source": [
    "#### Nodos"
   ]
  },
  {
   "cell_type": "code",
   "execution_count": 193,
   "metadata": {},
   "outputs": [],
   "source": [
    "gvial = nx.DiGraph()\n",
    "todos_los_nodos = []\n",
    "\n",
    "for a in range(parametros.T):\n",
    "    periodo = []\n",
    "    for b in range(len(nombres)):\n",
    "        if 'PB' not in nombres[b]:\n",
    "            info_tipo_nodo[b]['periodo'] = a+1\n",
    "            info_tipo_nodo[b]['demand'] = 0\n",
    "            nodito = (f'{nombres[b]},{a+1}', info_tipo_nodo[b])\n",
    "            periodo.append(nodito)\n",
    "    todos_los_nodos.append(periodo)\n",
    "\n",
    "for a in todos_los_nodos:\n",
    "    gvial.add_nodes_from(a)\n",
    "\n",
    "# nodos sumidero y fuente\n",
    "gvial.add_node('s', demand = 0)\n",
    "gvial.add_node('t', demand = 0)\n",
    "\n",
    "inv_0_ad = list(inventario_inicial_adicional['1'])\n",
    "for a in range(parametros.B):\n",
    "    gvial.add_node(f'B{a+1},1', demand = inv_0_ad[a])\n",
    "\n",
    "inv_0 = list(inventario_inicial['1'])\n",
    "for a in range(parametros.P):\n",
    "    gvial.add_node(f'Bodega P{a+1},1', demand = inv_0[a-1])\n",
    "    for t in range(1,parametros.T):\n",
    "        gvial.add_node(f'Bodega P{a+1},{t+1}', demand = 0)"
   ]
  },
  {
   "cell_type": "code",
   "execution_count": 194,
   "metadata": {},
   "outputs": [],
   "source": [
    "for p in range(1,parametros.P+1):\n",
    "    gvial.remove_node(f'P{p},{parametros.T}')"
   ]
  },
  {
   "cell_type": "markdown",
   "metadata": {},
   "source": [
    "#### Arcos de envio"
   ]
  },
  {
   "cell_type": "code",
   "execution_count": 195,
   "metadata": {},
   "outputs": [],
   "source": [
    "# ARCOS Bodega de PRODUCCION - DEMANDA PERIODOS t={2, ..., T}\n",
    "for t in range(1, parametros.T+1):\n",
    "    for a in matriz_costos_prod_dem.iterrows():\n",
    "        o = a[1]['origen']\n",
    "        d = a[1]['destino']\n",
    "        gvial.add_edge(f'Bodega {o},{t}', f'{d},{t}', \n",
    "                       weight = a[1]['distancia']*c_tte, \n",
    "                       capacity = demanda_max.loc[d][str(t)],\n",
    "                       cota_min = demanda_min.loc[d][str(t)])\n",
    "\n",
    "# ARCOS Bodega de PRODUCCION - BODEGA PERIODOS t={2, ..., T}\n",
    "for t in range(1, parametros.T+1):\n",
    "    for a in matriz_costos_prod_bod.iterrows():\n",
    "        o = a[1]['origen']\n",
    "        d = a[1]['destino']\n",
    "        gvial.add_edge(f'Bodega {o},{t}', f'{d},{t}', \n",
    "            weight = a[1]['distancia']*c_tte, \n",
    "            capacity =  capacidad_almacenaje_adicional.loc[d][str(t)],\n",
    "            cota_min =  0)\n",
    "\n",
    "# ARCOS BODEGA - DEMANDA PERIODOS t={1, ..., T}\n",
    "for t in range(1, parametros.T+1):\n",
    "    for a in matriz_costos_bod_dem.iterrows():\n",
    "        o = a[1]['origen']\n",
    "        d = a[1]['destino']\n",
    "        gvial.add_edge(f'{o},{t}', f'{d},{t}', \n",
    "            weight = a[1]['distancia']*c_tte, \n",
    "            capacity =  demanda_max.loc[d][str(t)],\n",
    "            cota_min =  demanda_min.loc[d][str(t)])"
   ]
  },
  {
   "cell_type": "markdown",
   "metadata": {},
   "source": [
    "#### Arcos de inventario"
   ]
  },
  {
   "cell_type": "code",
   "execution_count": 196,
   "metadata": {},
   "outputs": [],
   "source": [
    "# ARCOS DE INVENTARIO\n",
    "\n",
    "# arcos de inventario desde la planta a su bodega en periodos consecutivos\n",
    "# debe ser P_i_t -> Bodega P_i_t+1\n",
    "for t in range(1, parametros.T):\n",
    "    for a in range(1, parametros.P+1):\n",
    "        o = f'P{a}'\n",
    "        d = f'P{a}'\n",
    "\n",
    "        cto_alm = costo_almacenaje.loc[d][str(t)]\n",
    "        cto_prod = costo_produccion.loc[o][str(t)]\n",
    "        cap = capacidad_almacenaje.loc[d][str(t)]\n",
    "\n",
    "        gvial.add_edge(f'{o},{t}', f'Bodega {d},{t+1}',\n",
    "                       weight = cto_alm + cto_prod,\n",
    "                       capacity = cap,\n",
    "                       cota_min = 0)\n",
    "\n",
    "# arcos de inventario desde la bodega de la planta a la bodega en periodos consecutivos\n",
    "# debe ser Bodega P_i_t -> Bodega P_i_t+1\n",
    "for t in range(1, parametros.T):\n",
    "    for a in range(1, parametros.P+1):\n",
    "        o = f'P{a}'\n",
    "        d = f'P{a}'\n",
    "\n",
    "        cto_alm = costo_almacenaje.loc[d][str(t)]\n",
    "        cap = capacidad_almacenaje.loc[d][str(t)]\n",
    "\n",
    "        gvial.add_edge(f'Bodega {o},{t}', f'Bodega {d},{t+1}',\n",
    "                       weight = cto_alm,\n",
    "                       capacity = cap,\n",
    "                       cota_min = 0)\n",
    "\n",
    "# arcos de inventario entre bodegas en periodos consecutivos\n",
    "for t in range(1, parametros.T):\n",
    "    for a in range(1, parametros.B+1):\n",
    "        o = f'B{a}'\n",
    "        d = f'B{a}'\n",
    "        \n",
    "        cto = costo_almacenaje_adicional.loc[d][str(t)]\n",
    "        cap = capacidad_almacenaje_adicional.loc[d][str(t)]\n",
    "\n",
    "        gvial.add_edge(f'{o},{t}', f'{d},{t+1}',\n",
    "                       weight = cto,\n",
    "                       capacity = cap,\n",
    "                       cota_min = 0)"
   ]
  },
  {
   "cell_type": "markdown",
   "metadata": {},
   "source": [
    "#### Arcos de generación"
   ]
  },
  {
   "cell_type": "code",
   "execution_count": 197,
   "metadata": {},
   "outputs": [],
   "source": [
    "# ARCOS DE GENERACIÓN\n",
    "    # producción por periodo plantas\n",
    "for t in range(1, parametros.T):\n",
    "    for a in range(1, parametros.P+1):\n",
    "        d = f'P{a}'\n",
    "        prod_min = oferta_min_proveedores.loc[d][str(t)]\n",
    "        prod_max = oferta_max_proveedores.loc[d][str(t)]\n",
    "        gvial.add_edge('s', f'{d},{t}',\n",
    "                       weight = 0,\n",
    "                       capacity = prod_max,\n",
    "                       cota_min = prod_min)\n",
    "\n",
    "for a in range(parametros.P):\n",
    "    d = f'P{a+1}'\n",
    "    inv_0 = list(inventario_inicial['1'])\n",
    "    gvial.add_edge('s', f'{d},1',\n",
    "                    weight = 0,\n",
    "                    capacity = inv_0[a],\n",
    "                    cota_min = inv_0[a])"
   ]
  },
  {
   "cell_type": "markdown",
   "metadata": {},
   "source": [
    "#### Arcos de atracción"
   ]
  },
  {
   "cell_type": "code",
   "execution_count": 198,
   "metadata": {},
   "outputs": [],
   "source": [
    "for t in range(1, parametros.T+1):\n",
    "    for a in range(1, parametros.D+1):\n",
    "        o = f'D{a}'\n",
    "        precio = precio_venta.loc[o][str(t)]\n",
    "\n",
    "        gvial.add_edge(f'{o},{t}', 't',\n",
    "                       weight = -precio,\n",
    "                       cota_min = 0)\n",
    "\n",
    "for a in range(1, parametros.P+1):\n",
    "    o = f'Bodega P{a}'\n",
    "\n",
    "    gvial.add_edge(f'{o},{parametros.T}', 't',\n",
    "                    weight = 0,\n",
    "                    cota_min = 0)\n",
    "\n",
    "for a in range(1, parametros.B+1):\n",
    "        o = f'B{a}'\n",
    "\n",
    "        gvial.add_edge(f'{o},{parametros.T}', 't',\n",
    "                       weight = 0,\n",
    "                       cota_min = 0)"
   ]
  },
  {
   "cell_type": "markdown",
   "metadata": {},
   "source": [
    "#### Arco de circulación"
   ]
  },
  {
   "cell_type": "code",
   "execution_count": 199,
   "metadata": {},
   "outputs": [
    {
     "data": {
      "text/plain": [
       "\"# circulacion\\ngvial.add_edge('t','s',\\n               weight = 1,\\n               cota_min = 0)\""
      ]
     },
     "execution_count": 199,
     "metadata": {},
     "output_type": "execute_result"
    }
   ],
   "source": [
    "'''# circulacion\n",
    "gvial.add_edge('t','s',\n",
    "               weight = 1,\n",
    "               cota_min = 0)'''"
   ]
  },
  {
   "cell_type": "code",
   "execution_count": 200,
   "metadata": {},
   "outputs": [
    {
     "data": {
      "text/plain": [
       "[('P1,1', 'Bodega P1,2', {'weight': 242, 'capacity': 2003, 'cota_min': 0}),\n",
       " ('P2,1', 'Bodega P2,2', {'weight': 246, 'capacity': 2010, 'cota_min': 0}),\n",
       " ('B1,1', 'D1,1', {'weight': 72, 'capacity': 204, 'cota_min': 0}),\n",
       " ('B1,1', 'B1,2', {'weight': 28, 'capacity': 1502, 'cota_min': 0}),\n",
       " ('D1,1', 't', {'weight': -580, 'cota_min': 0}),\n",
       " ('B1,2', 'D1,2', {'weight': 72, 'capacity': 367, 'cota_min': 0}),\n",
       " ('B1,2', 't', {'weight': 0, 'cota_min': 0}),\n",
       " ('D1,2', 't', {'weight': -610, 'cota_min': 0}),\n",
       " ('s', 'P1,1', {'weight': 0, 'capacity': 501, 'cota_min': 501}),\n",
       " ('s', 'P2,1', {'weight': 0, 'capacity': 305, 'cota_min': 305}),\n",
       " ('Bodega P1,1', 'D1,1', {'weight': 33, 'capacity': 204, 'cota_min': 0}),\n",
       " ('Bodega P1,1', 'B1,1', {'weight': 69, 'capacity': 1502, 'cota_min': 0}),\n",
       " ('Bodega P1,1',\n",
       "  'Bodega P1,2',\n",
       "  {'weight': 20, 'capacity': 2003, 'cota_min': 0}),\n",
       " ('Bodega P1,2', 'D1,2', {'weight': 33, 'capacity': 367, 'cota_min': 0}),\n",
       " ('Bodega P1,2', 'B1,2', {'weight': 69, 'capacity': 1497, 'cota_min': 0}),\n",
       " ('Bodega P1,2', 't', {'weight': 0, 'cota_min': 0}),\n",
       " ('Bodega P2,1', 'D1,1', {'weight': 33, 'capacity': 204, 'cota_min': 0}),\n",
       " ('Bodega P2,1', 'B1,1', {'weight': 88, 'capacity': 1502, 'cota_min': 0}),\n",
       " ('Bodega P2,1',\n",
       "  'Bodega P2,2',\n",
       "  {'weight': 41, 'capacity': 2010, 'cota_min': 0}),\n",
       " ('Bodega P2,2', 'D1,2', {'weight': 33, 'capacity': 367, 'cota_min': 0}),\n",
       " ('Bodega P2,2', 'B1,2', {'weight': 88, 'capacity': 1497, 'cota_min': 0}),\n",
       " ('Bodega P2,2', 't', {'weight': 0, 'cota_min': 0})]"
      ]
     },
     "execution_count": 200,
     "metadata": {},
     "output_type": "execute_result"
    }
   ],
   "source": [
    "list(gvial.edges(data=True))"
   ]
  },
  {
   "cell_type": "markdown",
   "metadata": {},
   "source": [
    "### Ejecutar"
   ]
  },
  {
   "cell_type": "code",
   "execution_count": 201,
   "metadata": {},
   "outputs": [
    {
     "data": {
      "text/plain": [
       "[('P1,1',\n",
       "  {'id_nodo': 10827367167,\n",
       "   'pos': (-72.9049847, -41.4382097),\n",
       "   'tipo': 'produccion',\n",
       "   'periodo': 2,\n",
       "   'demand': 0}),\n",
       " ('P2,1',\n",
       "  {'id_nodo': 7564594729,\n",
       "   'pos': (-72.89773, -41.4616118),\n",
       "   'tipo': 'produccion',\n",
       "   'periodo': 2,\n",
       "   'demand': 0}),\n",
       " ('B1,1',\n",
       "  {'id_nodo': 1784870456,\n",
       "   'pos': (-72.995677, -41.4626411),\n",
       "   'tipo': 'bodega',\n",
       "   'periodo': 2,\n",
       "   'demand': 100}),\n",
       " ('D1,1',\n",
       "  {'id_nodo': 9261244985,\n",
       "   'pos': (-72.9180463, -41.4723684),\n",
       "   'tipo': 'demanda',\n",
       "   'periodo': 2,\n",
       "   'demand': 0}),\n",
       " ('B1,2',\n",
       "  {'id_nodo': 1784870456,\n",
       "   'pos': (-72.995677, -41.4626411),\n",
       "   'tipo': 'bodega',\n",
       "   'periodo': 2,\n",
       "   'demand': 0}),\n",
       " ('D1,2',\n",
       "  {'id_nodo': 9261244985,\n",
       "   'pos': (-72.9180463, -41.4723684),\n",
       "   'tipo': 'demanda',\n",
       "   'periodo': 2,\n",
       "   'demand': 0}),\n",
       " ('s', {'demand': 0}),\n",
       " ('t', {'demand': 0}),\n",
       " ('Bodega P1,1', {'demand': 305}),\n",
       " ('Bodega P1,2', {'demand': 0}),\n",
       " ('Bodega P2,1', {'demand': 501}),\n",
       " ('Bodega P2,2', {'demand': 0})]"
      ]
     },
     "execution_count": 201,
     "metadata": {},
     "output_type": "execute_result"
    }
   ],
   "source": [
    "list(gvial.nodes(data=True))"
   ]
  },
  {
   "cell_type": "code",
   "execution_count": 202,
   "metadata": {},
   "outputs": [],
   "source": [
    "# ELIMINAR LAS COTAS MINIMAS\n",
    "for u,v,a in gvial.edges(data=True):\n",
    "    if a[\"cota_min\"] > 0:\n",
    "        nx.set_node_attributes(gvial,{u:{'demand':gvial.nodes[u]['demand']+a['cota_min']}})\n",
    "        nx.set_node_attributes(gvial,{v:{'demand':gvial.nodes[v]['demand']-a['cota_min']}})\n",
    "        nx.set_edge_attributes(gvial,{(u,v):{'capacity':a['capacity']-a['cota_min']}})"
   ]
  },
  {
   "cell_type": "code",
   "execution_count": 203,
   "metadata": {},
   "outputs": [
    {
     "data": {
      "text/plain": [
       "[('P1,1',\n",
       "  {'id_nodo': 10827367167,\n",
       "   'pos': (-72.9049847, -41.4382097),\n",
       "   'tipo': 'produccion',\n",
       "   'periodo': 2,\n",
       "   'demand': -501}),\n",
       " ('P2,1',\n",
       "  {'id_nodo': 7564594729,\n",
       "   'pos': (-72.89773, -41.4616118),\n",
       "   'tipo': 'produccion',\n",
       "   'periodo': 2,\n",
       "   'demand': -305}),\n",
       " ('B1,1',\n",
       "  {'id_nodo': 1784870456,\n",
       "   'pos': (-72.995677, -41.4626411),\n",
       "   'tipo': 'bodega',\n",
       "   'periodo': 2,\n",
       "   'demand': 100}),\n",
       " ('D1,1',\n",
       "  {'id_nodo': 9261244985,\n",
       "   'pos': (-72.9180463, -41.4723684),\n",
       "   'tipo': 'demanda',\n",
       "   'periodo': 2,\n",
       "   'demand': 0}),\n",
       " ('B1,2',\n",
       "  {'id_nodo': 1784870456,\n",
       "   'pos': (-72.995677, -41.4626411),\n",
       "   'tipo': 'bodega',\n",
       "   'periodo': 2,\n",
       "   'demand': 0}),\n",
       " ('D1,2',\n",
       "  {'id_nodo': 9261244985,\n",
       "   'pos': (-72.9180463, -41.4723684),\n",
       "   'tipo': 'demanda',\n",
       "   'periodo': 2,\n",
       "   'demand': 0}),\n",
       " ('s', {'demand': 806}),\n",
       " ('t', {'demand': 0}),\n",
       " ('Bodega P1,1', {'demand': 305}),\n",
       " ('Bodega P1,2', {'demand': 0}),\n",
       " ('Bodega P2,1', {'demand': 501}),\n",
       " ('Bodega P2,2', {'demand': 0})]"
      ]
     },
     "execution_count": 203,
     "metadata": {},
     "output_type": "execute_result"
    }
   ],
   "source": [
    "list(gvial.nodes(data=True))"
   ]
  },
  {
   "cell_type": "code",
   "execution_count": 204,
   "metadata": {},
   "outputs": [
    {
     "name": "stdout",
     "output_type": "stream",
     "text": [
      "906\n"
     ]
    }
   ],
   "source": [
    "suma = 0\n",
    "for a in list(gvial.nodes(data=True)):\n",
    "    suma+= a[1]['demand']\n",
    "print(suma)\n",
    "\n",
    "if suma != 0:\n",
    "    actual = gvial.nodes()['s']['demand']\n",
    "    gvial.nodes()['s']['demand'] = actual - suma"
   ]
  },
  {
   "cell_type": "code",
   "execution_count": 205,
   "metadata": {},
   "outputs": [
    {
     "data": {
      "text/plain": [
       "-100"
      ]
     },
     "execution_count": 205,
     "metadata": {},
     "output_type": "execute_result"
    }
   ],
   "source": [
    "gvial.nodes()['s']['demand']"
   ]
  },
  {
   "cell_type": "code",
   "execution_count": 206,
   "metadata": {},
   "outputs": [
    {
     "data": {
      "text/plain": [
       "0"
      ]
     },
     "execution_count": 206,
     "metadata": {},
     "output_type": "execute_result"
    }
   ],
   "source": [
    "suma = 0\n",
    "for a in list(gvial.nodes(data=True)):\n",
    "    suma+= a[1]['demand']\n",
    "suma"
   ]
  },
  {
   "cell_type": "code",
   "execution_count": 207,
   "metadata": {},
   "outputs": [
    {
     "name": "stdout",
     "output_type": "stream",
     "text": [
      "-501\n",
      "-305\n",
      "-100\n"
     ]
    },
    {
     "data": {
      "text/plain": [
       "(-906, 906)"
      ]
     },
     "execution_count": 207,
     "metadata": {},
     "output_type": "execute_result"
    }
   ],
   "source": [
    "attrac = 0\n",
    "gen = 0\n",
    "for a in list(gvial.nodes(data=True)):\n",
    "    \n",
    "    if a[1]['demand'] > 0:\n",
    "        \n",
    "        attrac +=a[1]['demand']\n",
    "    if a[1]['demand'] < 0:\n",
    "        print(a[1]['demand'])\n",
    "        gen +=a[1]['demand']\n",
    "(gen, attrac)"
   ]
  },
  {
   "cell_type": "code",
   "execution_count": 208,
   "metadata": {},
   "outputs": [
    {
     "data": {
      "text/plain": [
       "[('P1,1', 'Bodega P1,2', {'weight': 242, 'capacity': 2003, 'cota_min': 0}),\n",
       " ('P2,1', 'Bodega P2,2', {'weight': 246, 'capacity': 2010, 'cota_min': 0}),\n",
       " ('B1,1', 'D1,1', {'weight': 72, 'capacity': 204, 'cota_min': 0}),\n",
       " ('B1,1', 'B1,2', {'weight': 28, 'capacity': 1502, 'cota_min': 0}),\n",
       " ('D1,1', 't', {'weight': -580, 'cota_min': 0}),\n",
       " ('B1,2', 'D1,2', {'weight': 72, 'capacity': 367, 'cota_min': 0}),\n",
       " ('B1,2', 't', {'weight': 0, 'cota_min': 0}),\n",
       " ('D1,2', 't', {'weight': -610, 'cota_min': 0}),\n",
       " ('s', 'P1,1', {'weight': 0, 'capacity': 0, 'cota_min': 501}),\n",
       " ('s', 'P2,1', {'weight': 0, 'capacity': 0, 'cota_min': 305}),\n",
       " ('Bodega P1,1', 'D1,1', {'weight': 33, 'capacity': 204, 'cota_min': 0}),\n",
       " ('Bodega P1,1', 'B1,1', {'weight': 69, 'capacity': 1502, 'cota_min': 0}),\n",
       " ('Bodega P1,1',\n",
       "  'Bodega P1,2',\n",
       "  {'weight': 20, 'capacity': 2003, 'cota_min': 0}),\n",
       " ('Bodega P1,2', 'D1,2', {'weight': 33, 'capacity': 367, 'cota_min': 0}),\n",
       " ('Bodega P1,2', 'B1,2', {'weight': 69, 'capacity': 1497, 'cota_min': 0}),\n",
       " ('Bodega P1,2', 't', {'weight': 0, 'cota_min': 0}),\n",
       " ('Bodega P2,1', 'D1,1', {'weight': 33, 'capacity': 204, 'cota_min': 0}),\n",
       " ('Bodega P2,1', 'B1,1', {'weight': 88, 'capacity': 1502, 'cota_min': 0}),\n",
       " ('Bodega P2,1',\n",
       "  'Bodega P2,2',\n",
       "  {'weight': 41, 'capacity': 2010, 'cota_min': 0}),\n",
       " ('Bodega P2,2', 'D1,2', {'weight': 33, 'capacity': 367, 'cota_min': 0}),\n",
       " ('Bodega P2,2', 'B1,2', {'weight': 88, 'capacity': 1497, 'cota_min': 0}),\n",
       " ('Bodega P2,2', 't', {'weight': 0, 'cota_min': 0})]"
      ]
     },
     "execution_count": 208,
     "metadata": {},
     "output_type": "execute_result"
    }
   ],
   "source": [
    "list(gvial.edges(data=True))"
   ]
  },
  {
   "cell_type": "code",
   "execution_count": 209,
   "metadata": {},
   "outputs": [
    {
     "ename": "NetworkXUnfeasible",
     "evalue": "No flow satisfying all demands.",
     "output_type": "error",
     "traceback": [
      "\u001b[1;31m---------------------------------------------------------------------------\u001b[0m",
      "\u001b[1;31mNetworkXUnfeasible\u001b[0m                        Traceback (most recent call last)",
      "Cell \u001b[1;32mIn[209], line 1\u001b[0m\n\u001b[1;32m----> 1\u001b[0m result \u001b[38;5;241m=\u001b[39m \u001b[43mnx\u001b[49m\u001b[38;5;241;43m.\u001b[39;49m\u001b[43mcapacity_scaling\u001b[49m\u001b[43m(\u001b[49m\u001b[43mgvial\u001b[49m\u001b[43m,\u001b[49m\u001b[43m \u001b[49m\u001b[43mdemand\u001b[49m\u001b[38;5;241;43m=\u001b[39;49m\u001b[38;5;124;43m'\u001b[39;49m\u001b[38;5;124;43mdemand\u001b[39;49m\u001b[38;5;124;43m'\u001b[39;49m\u001b[43m,\u001b[49m\u001b[43m \u001b[49m\u001b[43mcapacity\u001b[49m\u001b[38;5;241;43m=\u001b[39;49m\u001b[38;5;124;43m'\u001b[39;49m\u001b[38;5;124;43mcapacity\u001b[39;49m\u001b[38;5;124;43m'\u001b[39;49m\u001b[43m,\u001b[49m\u001b[43m \u001b[49m\u001b[43mweight\u001b[49m\u001b[38;5;241;43m=\u001b[39;49m\u001b[38;5;124;43m'\u001b[39;49m\u001b[38;5;124;43mweight\u001b[39;49m\u001b[38;5;124;43m'\u001b[39;49m\u001b[43m)\u001b[49m\n",
      "File \u001b[1;32m~\\AppData\\Local\\Packages\\PythonSoftwareFoundation.Python.3.10_qbz5n2kfra8p0\\LocalCache\\local-packages\\Python310\\site-packages\\networkx\\utils\\decorators.py:789\u001b[0m, in \u001b[0;36margmap.__call__.<locals>.func\u001b[1;34m(_argmap__wrapper, *args, **kwargs)\u001b[0m\n\u001b[0;32m    788\u001b[0m \u001b[38;5;28;01mdef\u001b[39;00m \u001b[38;5;21mfunc\u001b[39m(\u001b[38;5;241m*\u001b[39margs, __wrapper\u001b[38;5;241m=\u001b[39m\u001b[38;5;28;01mNone\u001b[39;00m, \u001b[38;5;241m*\u001b[39m\u001b[38;5;241m*\u001b[39mkwargs):\n\u001b[1;32m--> 789\u001b[0m     \u001b[38;5;28;01mreturn\u001b[39;00m argmap\u001b[38;5;241m.\u001b[39m_lazy_compile(__wrapper)(\u001b[38;5;241m*\u001b[39margs, \u001b[38;5;241m*\u001b[39m\u001b[38;5;241m*\u001b[39mkwargs)\n",
      "File \u001b[1;32m<class 'networkx.utils.decorators.argmap'> compilation 51:3\u001b[0m, in \u001b[0;36margmap_capacity_scaling_48\u001b[1;34m(G, demand, capacity, weight, heap, backend, **backend_kwargs)\u001b[0m\n\u001b[0;32m      1\u001b[0m \u001b[38;5;28;01mimport\u001b[39;00m \u001b[38;5;21;01mbz2\u001b[39;00m\n\u001b[0;32m      2\u001b[0m \u001b[38;5;28;01mimport\u001b[39;00m \u001b[38;5;21;01mcollections\u001b[39;00m\n\u001b[1;32m----> 3\u001b[0m \u001b[38;5;28;01mimport\u001b[39;00m \u001b[38;5;21;01mgzip\u001b[39;00m\n\u001b[0;32m      4\u001b[0m \u001b[38;5;28;01mimport\u001b[39;00m \u001b[38;5;21;01minspect\u001b[39;00m\n\u001b[0;32m      5\u001b[0m \u001b[38;5;28;01mimport\u001b[39;00m \u001b[38;5;21;01mitertools\u001b[39;00m\n",
      "File \u001b[1;32m~\\AppData\\Local\\Packages\\PythonSoftwareFoundation.Python.3.10_qbz5n2kfra8p0\\LocalCache\\local-packages\\Python310\\site-packages\\networkx\\utils\\backends.py:633\u001b[0m, in \u001b[0;36m_dispatchable.__call__\u001b[1;34m(self, backend, *args, **kwargs)\u001b[0m\n\u001b[0;32m    628\u001b[0m \u001b[38;5;250m\u001b[39m\u001b[38;5;124;03m\"\"\"Returns the result of the original function, or the backend function if\u001b[39;00m\n\u001b[0;32m    629\u001b[0m \u001b[38;5;124;03mthe backend is specified and that backend implements `func`.\"\"\"\u001b[39;00m\n\u001b[0;32m    631\u001b[0m \u001b[38;5;28;01mif\u001b[39;00m \u001b[38;5;129;01mnot\u001b[39;00m backends:\n\u001b[0;32m    632\u001b[0m     \u001b[38;5;66;03m# Fast path if no backends are installed\u001b[39;00m\n\u001b[1;32m--> 633\u001b[0m     \u001b[38;5;28;01mreturn\u001b[39;00m \u001b[38;5;28mself\u001b[39m\u001b[38;5;241m.\u001b[39morig_func(\u001b[38;5;241m*\u001b[39margs, \u001b[38;5;241m*\u001b[39m\u001b[38;5;241m*\u001b[39mkwargs)\n\u001b[0;32m    635\u001b[0m \u001b[38;5;66;03m# Use `backend_name` in this function instead of `backend`\u001b[39;00m\n\u001b[0;32m    636\u001b[0m backend_name \u001b[38;5;241m=\u001b[39m backend\n",
      "File \u001b[1;32m~\\AppData\\Local\\Packages\\PythonSoftwareFoundation.Python.3.10_qbz5n2kfra8p0\\LocalCache\\local-packages\\Python310\\site-packages\\networkx\\algorithms\\flow\\capacityscaling.py:397\u001b[0m, in \u001b[0;36mcapacity_scaling\u001b[1;34m(G, demand, capacity, weight, heap)\u001b[0m\n\u001b[0;32m    394\u001b[0m     delta \u001b[38;5;241m/\u001b[39m\u001b[38;5;241m/\u001b[39m\u001b[38;5;241m=\u001b[39m \u001b[38;5;241m2\u001b[39m\n\u001b[0;32m    396\u001b[0m \u001b[38;5;28;01mif\u001b[39;00m \u001b[38;5;28many\u001b[39m(R\u001b[38;5;241m.\u001b[39mnodes[u][\u001b[38;5;124m\"\u001b[39m\u001b[38;5;124mexcess\u001b[39m\u001b[38;5;124m\"\u001b[39m] \u001b[38;5;241m!=\u001b[39m \u001b[38;5;241m0\u001b[39m \u001b[38;5;28;01mfor\u001b[39;00m u \u001b[38;5;129;01min\u001b[39;00m R):\n\u001b[1;32m--> 397\u001b[0m     \u001b[38;5;28;01mraise\u001b[39;00m nx\u001b[38;5;241m.\u001b[39mNetworkXUnfeasible(\u001b[38;5;124m\"\u001b[39m\u001b[38;5;124mNo flow satisfying all demands.\u001b[39m\u001b[38;5;124m\"\u001b[39m)\n\u001b[0;32m    399\u001b[0m \u001b[38;5;66;03m# Calculate the flow cost.\u001b[39;00m\n\u001b[0;32m    400\u001b[0m \u001b[38;5;28;01mfor\u001b[39;00m u \u001b[38;5;129;01min\u001b[39;00m R:\n",
      "\u001b[1;31mNetworkXUnfeasible\u001b[0m: No flow satisfying all demands."
     ]
    }
   ],
   "source": [
    "result = nx.capacity_scaling(gvial, demand='demand', capacity='capacity', weight='weight')"
   ]
  },
  {
   "cell_type": "markdown",
   "metadata": {},
   "source": [
    "### \n",
    "otros"
   ]
  },
  {
   "cell_type": "code",
   "execution_count": 32,
   "metadata": {},
   "outputs": [],
   "source": [
    "dddddd = {'s':(0,0),'t':(0,5),'Bodega P1,1':(1,1),'P1,1':(1,1.5),'Bodega P1,2':(1,2.5),'P1,2':(1,3),'Bodega P2,1':(2,1),'P2,1':(2,1.5),'Bodega P2,2':(2,2.5),'P2,2':(2,3),'B1,1':(3,1),'B1,2':(3,2.5),'D1,1':(4,1),'D1,2':(4,2.5)}"
   ]
  },
  {
   "cell_type": "code",
   "execution_count": 33,
   "metadata": {},
   "outputs": [
    {
     "data": {
      "image/png": "[encoded data removed]",
      "text/plain": [
       "<Figure size 640x480 with 1 Axes>"
      ]
     },
     "metadata": {},
     "output_type": "display_data"
    }
   ],
   "source": [
    "agr = []\n",
    "for a in list(gvial.nodes()):\n",
    "    if ',0' in a:\n",
    "        agr.append(a)\n",
    "\n",
    "agr1 = []\n",
    "for a in list(gvial.edges()):\n",
    "    if (',1' in a[0]) or (',1' in a[1]) or ('s' in a[0] or 's' in a[1]):\n",
    "        agr1.append(a)\n",
    "agr1\n",
    "nx.draw_networkx(gvial, dddddd)\n",
    "#nx.draw_networkx(gvial)\n",
    "#arrows=True,"
   ]
  },
  {
   "cell_type": "code",
   "execution_count": 110,
   "metadata": {},
   "outputs": [
    {
     "data": {
      "image/png": "[encoded data removed]",
      "text/plain": [
       "<Figure size 3000x1000 with 2 Axes>"
      ]
     },
     "metadata": {},
     "output_type": "display_data"
    }
   ],
   "source": [
    "# OTROS:\n",
    "    # CON ESTO PUEDO GRAFICAR PUERTO MONTT\n",
    "'''ox.folium.plot_graph_folium(G0, tiles='CartoDB positron', color='red', weight=1)'''\n",
    "\n",
    "    # esto lo encontre de casulidad, da los nodos adyacentes de otro nodo\n",
    "#[(n, nbrdict) for n, nbrdict in G.adjacency()]\n",
    "#print(nx.adjacency_matrix(grafo_vial_nuevo))\n",
    "\n",
    "# ESTO ES SOLO PARA VER LOS ARCOS ELIMINADOS\n",
    "plt.subplots(1,2, figsize = (30,10))\n",
    "\n",
    "plt.subplot(1,2,1)\n",
    "plt.title('antes eliminar arcos')\n",
    "nx.draw(grafo_vial)\n",
    "\n",
    "plt.subplot(1,2,2)\n",
    "plt.title('despues eliminar arcos')\n",
    "nx.draw(grafo_vial_nuevo)"
   ]
  },
  {
   "cell_type": "markdown",
   "metadata": {},
   "source": []
  }
 ],
 "metadata": {
  "kernelspec": {
   "display_name": "Python 3",
   "language": "python",
   "name": "python3"
  },
  "language_info": {
   "codemirror_mode": {
    "name": "ipython",
    "version": 3
   },
   "file_extension": ".py",
   "mimetype": "text/x-python",
   "name": "python",
   "nbconvert_exporter": "python",
   "pygments_lexer": "ipython3",
   "version": "3.10.11"
  }
 },
 "nbformat": 4,
 "nbformat_minor": 2
}
