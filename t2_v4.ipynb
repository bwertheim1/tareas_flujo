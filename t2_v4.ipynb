{
 "cells": [
  {
   "cell_type": "code",
   "execution_count": 1,
   "metadata": {},
   "outputs": [],
   "source": [
    "from t2_flujo import *\n",
    "import folium\n",
    "import matplotlib.pyplot as plt\n",
    "import funciones\n",
    "import parametros"
   ]
  },
  {
   "cell_type": "markdown",
   "metadata": {},
   "source": [
    "# pre pros"
   ]
  },
  {
   "cell_type": "code",
   "execution_count": 2,
   "metadata": {},
   "outputs": [],
   "source": [
    "N = []\n",
    "for a in range(len(nodos_totales)):\n",
    "    lista = nodos_totales.loc[a].to_list()\n",
    "    nodo = funciones.Node(lista[0], lista[1], lista[2], lista[3], lista[4])\n",
    "    N.append(nodo)\n",
    "\n",
    "# DICCIONARIO DE ID EN EL MAPA Y EL ID QUE LE PUSE A LOS NODOS\n",
    "\n",
    "ids = nodos_totales['id_nodo'].to_list()\n",
    "nombres = nodos_totales['id'].to_list()\n",
    "\n",
    "dict_ids_nombres = {}\n",
    "\n",
    "for a in range(len(ids)):\n",
    "    dict_ids_nombres[ids[a]] = nombres[a]\n",
    "\n",
    "for a in range(1,parametros.P+1):\n",
    "    nombres.append(f'PB{a}')"
   ]
  },
  {
   "cell_type": "code",
   "execution_count": 3,
   "metadata": {},
   "outputs": [],
   "source": [
    "# Como se especifica que el transporte es desde los nodos de produccion a bodegas y demanda, y de los nodos\n",
    "# de bodega a los nodos de demanda, elimino los arcos que no sirven para del grafo de todos los nodos conectados entre si.\n",
    "\n",
    "# list(grafo_vial.edges(data=True))[par][origen/destino]\n",
    "grafo_vial_nuevo = grafo_vial.copy()\n",
    "lista_pares_nodos = list(grafo_vial_nuevo.edges())\n",
    "\n",
    "for b in range(len(lista_pares_nodos)):\n",
    "    a = lista_pares_nodos[b]\n",
    "    \n",
    "    O = nodos_totales[nodos_totales['id_nodo'] == a[0]]\n",
    "    O_pos = O.index[0]\n",
    "\n",
    "    D = nodos_totales[nodos_totales['id_nodo'] == a[1]]\n",
    "    D_pos = D.index[0]\n",
    "\n",
    "    if O['tipo'][O_pos] == D['tipo'][D_pos]:\n",
    "        grafo_vial_nuevo.remove_edge(O['id_nodo'][O_pos],D['id_nodo'][D_pos])\n",
    "    \n",
    "    elif O['tipo'][O_pos] == 'demanda':\n",
    "        grafo_vial_nuevo.remove_edge(O['id_nodo'][O_pos], D['id_nodo'][D_pos])\n",
    "\n",
    "info_tipo_nodo = list(dict(grafo_vial_nuevo.nodes(data=True)).values())"
   ]
  },
  {
   "cell_type": "code",
   "execution_count": 4,
   "metadata": {},
   "outputs": [],
   "source": [
    "# Las rutas minimas entre los nodos (todo el grafo se demora 1 min aprox)\n",
    "r_min = funciones.rutas_min(grafo_vial_nuevo, parametros.G, len(list(grafo_vial_nuevo.edges())))\n",
    "#graficar_rutas_min_n(r_min[0], G, 100)"
   ]
  },
  {
   "cell_type": "code",
   "execution_count": 5,
   "metadata": {},
   "outputs": [],
   "source": [
    "# matriz de costos con las distancias entre los nodos en el mapa\n",
    "matriz_costos = []\n",
    "lista_arcos = list(grafo_vial_nuevo.edges(data=True))\n",
    "\n",
    "for a in range(len(r_min[0])):\n",
    "    matriz_costos.append([dict_ids_nombres[lista_arcos[a][0]],\n",
    "                         dict_ids_nombres[lista_arcos[a][1]],\n",
    "                         r_min[1][a],\n",
    "                         r_min[0][a]])"
   ]
  },
  {
   "cell_type": "code",
   "execution_count": 6,
   "metadata": {},
   "outputs": [],
   "source": [
    "matriz_costos_prod_dem = pd.DataFrame(columns=['origen', 'destino', 'distancia', 'ruta'])\n",
    "matriz_costos_prod_bod = pd.DataFrame(columns=['origen', 'destino', 'distancia', 'ruta'])\n",
    "matriz_costos_bod_dem = pd.DataFrame(columns=['origen', 'destino', 'distancia', 'ruta'])\n",
    "\n",
    "for a in matriz_costos:\n",
    "    if 'P' in a[0]:\n",
    "        if 'D' in a[1]:\n",
    "            matriz_costos_prod_dem = matriz_costos_prod_dem._append({'origen':a[0], 'destino':a[1], 'distancia':a[2], 'ruta':a[3]}, ignore_index=True)\n",
    "        elif 'B' in a[1]:\n",
    "            matriz_costos_prod_bod = matriz_costos_prod_bod._append({'origen':a[0], 'destino':a[1], 'distancia':a[2], 'ruta':a[3]}, ignore_index=True)\n",
    "    if 'B' in a[0]:\n",
    "        matriz_costos_bod_dem = matriz_costos_bod_dem._append({'origen':a[0], 'destino':a[1], 'distancia':a[2], 'ruta':a[3]}, ignore_index=True)"
   ]
  },
  {
   "cell_type": "code",
   "execution_count": 7,
   "metadata": {},
   "outputs": [],
   "source": [
    "I = parametros.P\n",
    "J = parametros.B + 1\n",
    "\n",
    "# PARÁMETROS COMUNES ENTRE LA MATRIZ DE VIAJES Y COSTOS\n",
    "columnas = list(nodos_bodegas.index)\n",
    "filas = []\n",
    "for a in range(1,I):\n",
    "    columnas.append(a)\n",
    "    filas.append(np.float64(0))\n",
    "filas.append(np.float64(0))\n",
    "\n",
    "dict_matriz = dict()\n",
    "for b in range(0,J-1):\n",
    "    dict_matriz[columnas[b]] = filas\n",
    "\n",
    "prod_bodega = pd.DataFrame(data = dict_matriz)\n",
    "\n",
    "\n",
    "prod_bodega['id'] = list(nodos_produccion.index)\n",
    "\n",
    "prod_bodega = prod_bodega.set_index('id')\n",
    "\n",
    "for i in range(len(matriz_costos_prod_bod)):\n",
    "    fila = matriz_costos_prod_bod.loc[i]['origen']\n",
    "    columna = matriz_costos_prod_bod.loc[i]['destino']\n",
    "    guardar = matriz_costos_prod_bod.loc[i]['distancia']\n",
    "    prod_bodega.loc[fila][columna] = guardar"
   ]
  },
  {
   "cell_type": "code",
   "execution_count": 8,
   "metadata": {},
   "outputs": [],
   "source": [
    "I = parametros.P\n",
    "J = parametros.D + 1\n",
    "\n",
    "# PARÁMETROS COMUNES ENTRE LA MATRIZ DE VIAJES Y COSTOS\n",
    "columnas = list(nodos_demanda.index)\n",
    "filas = []\n",
    "for a in range(1,I):\n",
    "    columnas.append(a)\n",
    "    filas.append(np.float64(0))\n",
    "filas.append(np.float64(0))\n",
    "\n",
    "dict_matriz = dict()\n",
    "for b in range(0,J-1):\n",
    "    dict_matriz[columnas[b]] = filas\n",
    "\n",
    "prod_demanda = pd.DataFrame(data = dict_matriz)\n",
    "\n",
    "\n",
    "prod_demanda['id'] = list(nodos_produccion.index)\n",
    "\n",
    "prod_demanda = prod_demanda.set_index('id')\n",
    "\n",
    "for i in range(len(matriz_costos_prod_dem)):\n",
    "    fila = matriz_costos_prod_dem.loc[i]['origen']\n",
    "    columna = matriz_costos_prod_dem.loc[i]['destino']\n",
    "    guardar = matriz_costos_prod_dem.loc[i]['distancia']\n",
    "    prod_demanda.loc[fila][columna] = guardar"
   ]
  },
  {
   "cell_type": "code",
   "execution_count": 9,
   "metadata": {},
   "outputs": [],
   "source": [
    "I = parametros.B\n",
    "J = parametros.D + 1\n",
    "\n",
    "# PARÁMETROS COMUNES ENTRE LA MATRIZ DE VIAJES Y COSTOS\n",
    "columnas = list(nodos_demanda.index)\n",
    "filas = []\n",
    "for a in range(1,I):\n",
    "    columnas.append(a)\n",
    "    filas.append(np.float64(0))\n",
    "filas.append(np.float64(0))\n",
    "\n",
    "dict_matriz = dict()\n",
    "for b in range(0,J-1):\n",
    "    dict_matriz[columnas[b]] = filas\n",
    "\n",
    "bod_demanda = pd.DataFrame(data = dict_matriz)\n",
    "\n",
    "\n",
    "bod_demanda['id'] = list(nodos_bodegas.index)\n",
    "\n",
    "bod_demanda = bod_demanda.set_index('id')\n",
    "\n",
    "for i in range(len(matriz_costos_bod_dem)):\n",
    "    fila = matriz_costos_bod_dem.loc[i]['origen']\n",
    "    columna = matriz_costos_bod_dem.loc[i]['destino']\n",
    "    guardar = matriz_costos_bod_dem.loc[i]['distancia']\n",
    "    bod_demanda.loc[fila][columna] = guardar"
   ]
  },
  {
   "cell_type": "markdown",
   "metadata": {},
   "source": [
    "# armo grafo"
   ]
  },
  {
   "cell_type": "code",
   "execution_count": 222,
   "metadata": {},
   "outputs": [],
   "source": [
    "G1 = nx.DiGraph()"
   ]
  },
  {
   "cell_type": "code",
   "execution_count": 223,
   "metadata": {},
   "outputs": [],
   "source": [
    "#se agregan los nodos correspondientes a las tiendas\n",
    "\n",
    "generaciones = 0\n",
    "atracciones = 0\n",
    "\n",
    "for d in range(1, parametros.D+1):\n",
    "  for t in range(1, parametros.T+1):\n",
    "    nombre_nodo = 'tienda' + str(d) + 't' + str(t)\n",
    "    demanda = (demanda_max.loc[f'D{d}'][f'{t}'] - demanda_min.loc[f'D{d}'][f'{t}'])\n",
    "    atracciones = atracciones + demanda\n",
    "    G1.add_node(nombre_nodo, demand = demanda)"
   ]
  },
  {
   "cell_type": "code",
   "execution_count": 224,
   "metadata": {},
   "outputs": [],
   "source": [
    "#se agregan los nodos correspondientes a las fábricas\n",
    "\n",
    "for p in range(1, parametros.P+1):\n",
    "  for t in range(1, parametros.T):\n",
    "    nombre_nodo = 'fabrica' + str(p) + 't' + str(t)\n",
    "    oferta = -(oferta_max_proveedores.loc[f'P{p}'][f'{t}'] - oferta_min_proveedores.loc[f'P{p}'][f'{t}'])\n",
    "    generaciones = generaciones + -1*oferta                 ###acá decía -1*oferta\n",
    "    G1.add_node(nombre_nodo, demand = oferta)"
   ]
  },
  {
   "cell_type": "code",
   "execution_count": 225,
   "metadata": {},
   "outputs": [],
   "source": [
    "inv_inicial_fabricas = inventario_inicial.to_dict()['1']\n",
    "inv_inicial_bodegas = inventario_inicial_adicional.to_dict()['1']"
   ]
  },
  {
   "cell_type": "code",
   "execution_count": 226,
   "metadata": {},
   "outputs": [],
   "source": [
    "#se agregan los nodos correspondientes a las bodegas de las fábricas\n",
    "\n",
    "inv_0_fabricas = 0\n",
    "\n",
    "for i in range(1, parametros.P + 1):\n",
    "  for j in range(1, parametros.T + 1):\n",
    "    nombre_nodo = 'bodegafabrica' + str(i) + 't' + str(j)\n",
    "    if j == 1:\n",
    "      oferta = 1*int(inv_inicial_fabricas[f'P{i}'])\n",
    "      inv_0_fabricas = inv_0_fabricas + -1*oferta   ###acá decía -1*oferta\n",
    "      G1.add_node(nombre_nodo, demand = oferta)\n",
    "    else:\n",
    "      G1.add_node(nombre_nodo)"
   ]
  },
  {
   "cell_type": "code",
   "execution_count": 227,
   "metadata": {},
   "outputs": [],
   "source": [
    "#se agregan los nodos de bodegas adicionales\n",
    "inv_0_bodegas = 0\n",
    "\n",
    "for i in range(1, parametros.B):\n",
    "  for j in range(1, parametros.T):\n",
    "    nombre_nodo = 'bodegaad' + str(i) + 't' + str(j)\n",
    "    if j == 1:\n",
    "      oferta = 1*int(inv_inicial_bodegas[f'B{i}'])\n",
    "      inv_0_bodegas = inv_0_bodegas + -1*oferta   ###acá decía -1*oferta\n",
    "      G1.add_node(nombre_nodo, demand = oferta)\n",
    "    else:\n",
    "      G1.add_node(nombre_nodo)"
   ]
  },
  {
   "cell_type": "code",
   "execution_count": 228,
   "metadata": {},
   "outputs": [],
   "source": [
    "#se agregan nodos auxiliares para todas las bodegas, tanto de fábricas como adicionales\n",
    "\n",
    "for p in range(1, parametros.P + 1):\n",
    "  for j in range(1, parametros.T):\n",
    "    nombre_nodo = 'aux_bodegafabrica' + str(i) + 't' + str(j)\n",
    "    demanda = -oferta_min_proveedores.loc[f'P{p}'][f'{t}']\n",
    "    atracciones = atracciones + demanda\n",
    "    G1.add_node(nombre_nodo, demand = demanda)\n",
    "\n",
    "for i in range(1, parametros.B + 1):\n",
    "  for j in range(1, parametros.T):\n",
    "    nombre_nodo = 'aux_bodegaad' + str(i) + 't' + str(j)\n",
    "    G1.add_node(nombre_nodo)"
   ]
  },
  {
   "cell_type": "code",
   "execution_count": 229,
   "metadata": {},
   "outputs": [
    {
     "name": "stdout",
     "output_type": "stream",
     "text": [
      "50235\n",
      "72694\n",
      "-2461\n",
      "-864\n",
      "-25784\n"
     ]
    }
   ],
   "source": [
    "print(atracciones)\n",
    "print(generaciones)\n",
    "print(inv_0_fabricas)\n",
    "print(inv_0_bodegas)\n",
    "print(atracciones - generaciones + inv_0_bodegas + inv_0_fabricas)"
   ]
  },
  {
   "cell_type": "code",
   "execution_count": 230,
   "metadata": {},
   "outputs": [
    {
     "name": "stdout",
     "output_type": "stream",
     "text": [
      "100\n"
     ]
    }
   ],
   "source": [
    "print(oferta)"
   ]
  },
  {
   "cell_type": "code",
   "execution_count": 231,
   "metadata": {},
   "outputs": [
    {
     "data": {
      "text/plain": [
       "-22570"
      ]
     },
     "execution_count": 231,
     "metadata": {},
     "output_type": "execute_result"
    }
   ],
   "source": [
    "b_sumidero"
   ]
  },
  {
   "cell_type": "code",
   "execution_count": 232,
   "metadata": {},
   "outputs": [],
   "source": [
    "b_sumidero = atracciones - generaciones + inv_0_bodegas + inv_0_fabricas"
   ]
  },
  {
   "cell_type": "code",
   "execution_count": 233,
   "metadata": {},
   "outputs": [],
   "source": [
    "G1.add_node('Sumidero', demand = -1*b_sumidero)"
   ]
  },
  {
   "cell_type": "code",
   "execution_count": 234,
   "metadata": {},
   "outputs": [
    {
     "name": "stdout",
     "output_type": "stream",
     "text": [
      "8015\n"
     ]
    }
   ],
   "source": [
    "suma=0\n",
    "for a in list(G1.nodes(data=True)):\n",
    "    if len(a[1])>0:\n",
    "        suma += a[1]['demand']\n",
    "print(suma)"
   ]
  },
  {
   "cell_type": "code",
   "execution_count": 117,
   "metadata": {},
   "outputs": [],
   "source": [
    "#se añaden los arcos desde cada fábrica a su nodo auxiliar en todos los periodos\n",
    "\n",
    "for t in range(1, parametros.T):\n",
    "  for i in range(1, parametros.P + 1):\n",
    "      nombrefab = 'fabrica' + str(i) + 't' + str(t)\n",
    "      nombreaux = 'aux_bodegafabrica' + str(i) + 't' + str(t)\n",
    "      costo_prod = costo_produccion.loc[f'P{i}'][f'{t}']\n",
    "      G1.add_edge(nombrefab, nombreaux, weight = costo_prod)\n"
   ]
  },
  {
   "cell_type": "code",
   "execution_count": 118,
   "metadata": {},
   "outputs": [],
   "source": [
    "#se agregan los arcos desde cada bodega de fábrica hasta cada tienda en todos los periodos\n",
    "\n",
    "for t in range(1, parametros.T + 1):\n",
    "  for b in range(1, parametros.P + 1):\n",
    "    for s in range(1, parametros.D +1):\n",
    "      origen = 'fabrica' + str(b)\n",
    "      destino = 'tienda' + str(s)\n",
    "      costo_trans = prod_demanda.loc[f'P{b}'][f'D{s}']\n",
    "      nombrebod = 'bodegafabrica' + str(b) + 't' + str(t)\n",
    "      nombretienda = 'tienda' + str(s) + 't' + str(t)\n",
    "      G1.add_edge(nombrebod, nombretienda, weight = costo_trans)"
   ]
  },
  {
   "cell_type": "code",
   "execution_count": 119,
   "metadata": {},
   "outputs": [],
   "source": [
    "#agregamos el arco que une cada bodega de fábrica con el nodo auxiliar de esa fábrica del mismo periodo\n",
    "\n",
    "for t in range(1, parametros.T):\n",
    "  for b in range(1, parametros.P+1):\n",
    "    nombrebod = 'bodegafabrica' + str(b) + 't' + str(t)\n",
    "    nombreaux = 'aux_bodegafabrica' + str(b) + 't' + str(t)\n",
    "    G1.add_edge(nombrebod, nombreaux, weight = 0)"
   ]
  },
  {
   "cell_type": "code",
   "execution_count": 120,
   "metadata": {},
   "outputs": [],
   "source": [
    "#agregamos los arcos que unen el nodo auxiliar de la bodega de una fábrica con el nodo de la misma bodega pero\n",
    "#en el periodo siguiente\n",
    "\n",
    "for t in range(1, parametros.T):\n",
    "  for b in range(1, parametros.P + 1):\n",
    "    nombreaux = 'aux_bodegafabrica' + str(b) + 't' + str(t)\n",
    "    nombrebod = 'bodegafabrica' + str(b) + 't' + str(t + 1)\n",
    "    c_almacenaje = costo_almacenaje.loc[f'P{b}'][f'{t}']\n",
    "    capacidad_max = capacidad_almacenaje.loc[f'P{b}'][f'{t}']\n",
    "    G1.add_edge(nombreaux, nombrebod, weight = c_almacenaje, capacity = capacidad_max)"
   ]
  },
  {
   "cell_type": "code",
   "execution_count": 121,
   "metadata": {},
   "outputs": [],
   "source": [
    "#agregamos arcos desde bodegas de fabricas hasta auxiliares de bodegas adicionales del mismo periodo\n",
    "\n",
    "for t in range(1, parametros.T):\n",
    "  for b in range(1, parametros.P +1):\n",
    "    for a in range(1, parametros.B + 1):\n",
    "      nombrebod = 'bodegafabrica' + str(b) + 't' + str(t)\n",
    "      nombreauxad = 'aux_bodegaad' + str(a) + 't' + str(t)\n",
    "      origen = 'fabrica' + str(b)\n",
    "      destino = 'bodega' + str(a)\n",
    "      costo_trans = prod_bodega.loc[f'P{b}'][f'B{a}']\n",
    "      G1.add_edge(nombrebod, nombreauxad, weight = costo_trans)"
   ]
  },
  {
   "cell_type": "code",
   "execution_count": 122,
   "metadata": {},
   "outputs": [],
   "source": [
    "#agregamos arcos  desde nodos auxiliares de bodegas adicionales hasta la misma bodega en el siguiente periodo, para\n",
    "#todos los periodos y todas las bodegas\n",
    "\n",
    "for t in range(1, parametros.T):\n",
    "  for a in range(1, parametros.B + 1):\n",
    "    nombreauxad = 'aux_bodegaad' + str(a) + 't' + str(t)\n",
    "    nombrebodad = 'bodegaad' + str(a) + 't' + str(t + 1)\n",
    "    c_almacenaje = costo_almacenaje_adicional.loc[f'B{b}'][f'{t}']\n",
    "    capacidad_max = capacidad_almacenaje_adicional.loc[f'B{b}'][f'{t}']\n",
    "    G1.add_edge(nombreauxad, nombrebodad, weight = c_almacenaje, capacity = capacidad_max)"
   ]
  },
  {
   "cell_type": "code",
   "execution_count": 123,
   "metadata": {},
   "outputs": [],
   "source": [
    "#agregamos el arco que une cada bodega adicional con el nodo auxiliar de esa bodega adicional del mismo periodo\n",
    "\n",
    "for t in range(1, parametros.T +1):\n",
    "  for a in range(1, parametros.B +1 ):\n",
    "    nombrebodad = 'bodegaad' + str(a) + 't' + str(t)\n",
    "    nombreauxad = 'aux_bodegaad' + str(a) + 't' + str(t)\n",
    "    G1.add_edge(nombrebodad, nombreauxad, weight = 0)"
   ]
  },
  {
   "cell_type": "code",
   "execution_count": 124,
   "metadata": {},
   "outputs": [],
   "source": [
    "#agregamos arcos que unen las bodegas adicionales con las tiendas, desde el periodo 2 hasta el último periodo\n",
    "\n",
    "for t in range(1, parametros.T +1):\n",
    "  for s in range(1, parametros.D +1):\n",
    "    for a in range(1, parametros.B +1):\n",
    "      nombrebodad = 'bodegaad' + str(a) + 't' + str(t)\n",
    "      nombretienda = 'tienda' + str(s) + 't' + str(t)\n",
    "      origen = 'bodega' + str(a)\n",
    "      destino = 'tienda' + str(s)\n",
    "      costo_trans = bod_demanda.loc[f'B{a}'][f'D{s}']\n",
    "      G1.add_edge(nombrebodad, nombretienda, weight = costo_trans)"
   ]
  },
  {
   "cell_type": "code",
   "execution_count": 125,
   "metadata": {},
   "outputs": [],
   "source": [
    "#agregamos arcos desde el sumidero hasta las tiendas en caso de que no se cumpla la demanda\n",
    "\n",
    "for t in range(1, parametros.T):\n",
    "  for s in range(1, parametros.B):\n",
    "    costo_dda_no = 0\n",
    "    nombretienda = 'tienda' + str(s) + 't' + str(t)\n",
    "    G1.add_edge('Sumidero', nombretienda, weight = costo_dda_no)"
   ]
  },
  {
   "cell_type": "code",
   "execution_count": 126,
   "metadata": {},
   "outputs": [],
   "source": [
    "#agregamos arcos desde fábricas hasta el sumidero para absorber el exceso de oferta\n",
    "\n",
    "for t in range(1, parametros.T + 1):\n",
    "  for f in range(1, parametros.P + 1):\n",
    "    nombrefab = 'fabrica' + str(f) + 't' + str(t)\n",
    "    G1.add_edge(nombrefab, 'Sumidero', weight = 0)"
   ]
  },
  {
   "cell_type": "code",
   "execution_count": 127,
   "metadata": {},
   "outputs": [
    {
     "ename": "NetworkXUnfeasible",
     "evalue": "Sum of the demands should be 0.",
     "output_type": "error",
     "traceback": [
      "\u001b[1;31m---------------------------------------------------------------------------\u001b[0m",
      "\u001b[1;31mNetworkXUnfeasible\u001b[0m                        Traceback (most recent call last)",
      "Cell \u001b[1;32mIn[127], line 1\u001b[0m\n\u001b[1;32m----> 1\u001b[0m resultado_cs \u001b[38;5;241m=\u001b[39m \u001b[43mnx\u001b[49m\u001b[38;5;241;43m.\u001b[39;49m\u001b[43mcapacity_scaling\u001b[49m\u001b[43m(\u001b[49m\u001b[43mG1\u001b[49m\u001b[43m,\u001b[49m\u001b[43m \u001b[49m\u001b[43mdemand\u001b[49m\u001b[43m \u001b[49m\u001b[38;5;241;43m=\u001b[39;49m\u001b[43m \u001b[49m\u001b[38;5;124;43m'\u001b[39;49m\u001b[38;5;124;43mdemand\u001b[39;49m\u001b[38;5;124;43m'\u001b[39;49m\u001b[43m,\u001b[49m\u001b[43m \u001b[49m\u001b[43mcapacity\u001b[49m\u001b[43m \u001b[49m\u001b[38;5;241;43m=\u001b[39;49m\u001b[43m \u001b[49m\u001b[38;5;124;43m'\u001b[39;49m\u001b[38;5;124;43mcapacity\u001b[39;49m\u001b[38;5;124;43m'\u001b[39;49m\u001b[43m,\u001b[49m\u001b[43m \u001b[49m\u001b[43mweight\u001b[49m\u001b[43m \u001b[49m\u001b[38;5;241;43m=\u001b[39;49m\u001b[43m \u001b[49m\u001b[38;5;124;43m'\u001b[39;49m\u001b[38;5;124;43mweight\u001b[39;49m\u001b[38;5;124;43m'\u001b[39;49m\u001b[43m)\u001b[49m\n",
      "File \u001b[1;32m~\\AppData\\Local\\Packages\\PythonSoftwareFoundation.Python.3.10_qbz5n2kfra8p0\\LocalCache\\local-packages\\Python310\\site-packages\\networkx\\utils\\decorators.py:789\u001b[0m, in \u001b[0;36margmap.__call__.<locals>.func\u001b[1;34m(_argmap__wrapper, *args, **kwargs)\u001b[0m\n\u001b[0;32m    788\u001b[0m \u001b[38;5;28;01mdef\u001b[39;00m \u001b[38;5;21mfunc\u001b[39m(\u001b[38;5;241m*\u001b[39margs, __wrapper\u001b[38;5;241m=\u001b[39m\u001b[38;5;28;01mNone\u001b[39;00m, \u001b[38;5;241m*\u001b[39m\u001b[38;5;241m*\u001b[39mkwargs):\n\u001b[1;32m--> 789\u001b[0m     \u001b[38;5;28;01mreturn\u001b[39;00m argmap\u001b[38;5;241m.\u001b[39m_lazy_compile(__wrapper)(\u001b[38;5;241m*\u001b[39margs, \u001b[38;5;241m*\u001b[39m\u001b[38;5;241m*\u001b[39mkwargs)\n",
      "File \u001b[1;32m<class 'networkx.utils.decorators.argmap'> compilation 42:3\u001b[0m, in \u001b[0;36margmap_capacity_scaling_39\u001b[1;34m(G, demand, capacity, weight, heap, backend, **backend_kwargs)\u001b[0m\n\u001b[0;32m      1\u001b[0m \u001b[38;5;28;01mimport\u001b[39;00m \u001b[38;5;21;01mbz2\u001b[39;00m\n\u001b[0;32m      2\u001b[0m \u001b[38;5;28;01mimport\u001b[39;00m \u001b[38;5;21;01mcollections\u001b[39;00m\n\u001b[1;32m----> 3\u001b[0m \u001b[38;5;28;01mimport\u001b[39;00m \u001b[38;5;21;01mgzip\u001b[39;00m\n\u001b[0;32m      4\u001b[0m \u001b[38;5;28;01mimport\u001b[39;00m \u001b[38;5;21;01minspect\u001b[39;00m\n\u001b[0;32m      5\u001b[0m \u001b[38;5;28;01mimport\u001b[39;00m \u001b[38;5;21;01mitertools\u001b[39;00m\n",
      "File \u001b[1;32m~\\AppData\\Local\\Packages\\PythonSoftwareFoundation.Python.3.10_qbz5n2kfra8p0\\LocalCache\\local-packages\\Python310\\site-packages\\networkx\\utils\\backends.py:633\u001b[0m, in \u001b[0;36m_dispatchable.__call__\u001b[1;34m(self, backend, *args, **kwargs)\u001b[0m\n\u001b[0;32m    628\u001b[0m \u001b[38;5;250m\u001b[39m\u001b[38;5;124;03m\"\"\"Returns the result of the original function, or the backend function if\u001b[39;00m\n\u001b[0;32m    629\u001b[0m \u001b[38;5;124;03mthe backend is specified and that backend implements `func`.\"\"\"\u001b[39;00m\n\u001b[0;32m    631\u001b[0m \u001b[38;5;28;01mif\u001b[39;00m \u001b[38;5;129;01mnot\u001b[39;00m backends:\n\u001b[0;32m    632\u001b[0m     \u001b[38;5;66;03m# Fast path if no backends are installed\u001b[39;00m\n\u001b[1;32m--> 633\u001b[0m     \u001b[38;5;28;01mreturn\u001b[39;00m \u001b[38;5;28mself\u001b[39m\u001b[38;5;241m.\u001b[39morig_func(\u001b[38;5;241m*\u001b[39margs, \u001b[38;5;241m*\u001b[39m\u001b[38;5;241m*\u001b[39mkwargs)\n\u001b[0;32m    635\u001b[0m \u001b[38;5;66;03m# Use `backend_name` in this function instead of `backend`\u001b[39;00m\n\u001b[0;32m    636\u001b[0m backend_name \u001b[38;5;241m=\u001b[39m backend\n",
      "File \u001b[1;32m~\\AppData\\Local\\Packages\\PythonSoftwareFoundation.Python.3.10_qbz5n2kfra8p0\\LocalCache\\local-packages\\Python310\\site-packages\\networkx\\algorithms\\flow\\capacityscaling.py:285\u001b[0m, in \u001b[0;36mcapacity_scaling\u001b[1;34m(G, demand, capacity, weight, heap)\u001b[0m\n\u001b[0;32m    152\u001b[0m \u001b[38;5;129m@nx\u001b[39m\u001b[38;5;241m.\u001b[39m_dispatchable(\n\u001b[0;32m    153\u001b[0m     node_attrs\u001b[38;5;241m=\u001b[39m\u001b[38;5;124m\"\u001b[39m\u001b[38;5;124mdemand\u001b[39m\u001b[38;5;124m\"\u001b[39m, edge_attrs\u001b[38;5;241m=\u001b[39m{\u001b[38;5;124m\"\u001b[39m\u001b[38;5;124mcapacity\u001b[39m\u001b[38;5;124m\"\u001b[39m: \u001b[38;5;28mfloat\u001b[39m(\u001b[38;5;124m\"\u001b[39m\u001b[38;5;124minf\u001b[39m\u001b[38;5;124m\"\u001b[39m), \u001b[38;5;124m\"\u001b[39m\u001b[38;5;124mweight\u001b[39m\u001b[38;5;124m\"\u001b[39m: \u001b[38;5;241m0\u001b[39m}\n\u001b[0;32m    154\u001b[0m )\n\u001b[0;32m    155\u001b[0m \u001b[38;5;28;01mdef\u001b[39;00m \u001b[38;5;21mcapacity_scaling\u001b[39m(\n\u001b[0;32m    156\u001b[0m     G, demand\u001b[38;5;241m=\u001b[39m\u001b[38;5;124m\"\u001b[39m\u001b[38;5;124mdemand\u001b[39m\u001b[38;5;124m\"\u001b[39m, capacity\u001b[38;5;241m=\u001b[39m\u001b[38;5;124m\"\u001b[39m\u001b[38;5;124mcapacity\u001b[39m\u001b[38;5;124m\"\u001b[39m, weight\u001b[38;5;241m=\u001b[39m\u001b[38;5;124m\"\u001b[39m\u001b[38;5;124mweight\u001b[39m\u001b[38;5;124m\"\u001b[39m, heap\u001b[38;5;241m=\u001b[39mBinaryHeap\n\u001b[0;32m    157\u001b[0m ):\n\u001b[0;32m    158\u001b[0m \u001b[38;5;250m    \u001b[39m\u001b[38;5;124mr\u001b[39m\u001b[38;5;124;03m\"\"\"Find a minimum cost flow satisfying all demands in digraph G.\u001b[39;00m\n\u001b[0;32m    159\u001b[0m \n\u001b[0;32m    160\u001b[0m \u001b[38;5;124;03m    This is a capacity scaling successive shortest augmenting path algorithm.\u001b[39;00m\n\u001b[1;32m   (...)\u001b[0m\n\u001b[0;32m    283\u001b[0m \u001b[38;5;124;03m    {'p': {'q': 2, 'a': 2}, 'q': {'d': 1}, 'a': {'t': 4}, 'd': {'w': 2}, 't': {'q': 1, 'w': 1}, 'w': {}}\u001b[39;00m\n\u001b[0;32m    284\u001b[0m \u001b[38;5;124;03m    \"\"\"\u001b[39;00m\n\u001b[1;32m--> 285\u001b[0m     R \u001b[38;5;241m=\u001b[39m \u001b[43m_build_residual_network\u001b[49m\u001b[43m(\u001b[49m\u001b[43mG\u001b[49m\u001b[43m,\u001b[49m\u001b[43m \u001b[49m\u001b[43mdemand\u001b[49m\u001b[43m,\u001b[49m\u001b[43m \u001b[49m\u001b[43mcapacity\u001b[49m\u001b[43m,\u001b[49m\u001b[43m \u001b[49m\u001b[43mweight\u001b[49m\u001b[43m)\u001b[49m\n\u001b[0;32m    287\u001b[0m     inf \u001b[38;5;241m=\u001b[39m \u001b[38;5;28mfloat\u001b[39m(\u001b[38;5;124m\"\u001b[39m\u001b[38;5;124minf\u001b[39m\u001b[38;5;124m\"\u001b[39m)\n\u001b[0;32m    288\u001b[0m     \u001b[38;5;66;03m# Account cost of negative selfloops.\u001b[39;00m\n",
      "File \u001b[1;32m~\\AppData\\Local\\Packages\\PythonSoftwareFoundation.Python.3.10_qbz5n2kfra8p0\\LocalCache\\local-packages\\Python310\\site-packages\\networkx\\utils\\decorators.py:789\u001b[0m, in \u001b[0;36margmap.__call__.<locals>.func\u001b[1;34m(_argmap__wrapper, *args, **kwargs)\u001b[0m\n\u001b[0;32m    788\u001b[0m \u001b[38;5;28;01mdef\u001b[39;00m \u001b[38;5;21mfunc\u001b[39m(\u001b[38;5;241m*\u001b[39margs, __wrapper\u001b[38;5;241m=\u001b[39m\u001b[38;5;28;01mNone\u001b[39;00m, \u001b[38;5;241m*\u001b[39m\u001b[38;5;241m*\u001b[39mkwargs):\n\u001b[1;32m--> 789\u001b[0m     \u001b[38;5;28;01mreturn\u001b[39;00m argmap\u001b[38;5;241m.\u001b[39m_lazy_compile(__wrapper)(\u001b[38;5;241m*\u001b[39margs, \u001b[38;5;241m*\u001b[39m\u001b[38;5;241m*\u001b[39mkwargs)\n",
      "File \u001b[1;32m<class 'networkx.utils.decorators.argmap'> compilation 46:4\u001b[0m, in \u001b[0;36margmap__build_residual_network_43\u001b[1;34m(G, demand, capacity, weight)\u001b[0m\n\u001b[0;32m      2\u001b[0m \u001b[38;5;28;01mimport\u001b[39;00m \u001b[38;5;21;01mcollections\u001b[39;00m\n\u001b[0;32m      3\u001b[0m \u001b[38;5;28;01mimport\u001b[39;00m \u001b[38;5;21;01mgzip\u001b[39;00m\n\u001b[1;32m----> 4\u001b[0m \u001b[38;5;28;01mimport\u001b[39;00m \u001b[38;5;21;01minspect\u001b[39;00m\n\u001b[0;32m      5\u001b[0m \u001b[38;5;28;01mimport\u001b[39;00m \u001b[38;5;21;01mitertools\u001b[39;00m\n\u001b[0;32m      6\u001b[0m \u001b[38;5;28;01mimport\u001b[39;00m \u001b[38;5;21;01mre\u001b[39;00m\n",
      "File \u001b[1;32m~\\AppData\\Local\\Packages\\PythonSoftwareFoundation.Python.3.10_qbz5n2kfra8p0\\LocalCache\\local-packages\\Python310\\site-packages\\networkx\\algorithms\\flow\\capacityscaling.py:45\u001b[0m, in \u001b[0;36m_build_residual_network\u001b[1;34m(G, demand, capacity, weight)\u001b[0m\n\u001b[0;32m     43\u001b[0m \u001b[38;5;250m\u001b[39m\u001b[38;5;124;03m\"\"\"Build a residual network and initialize a zero flow.\"\"\"\u001b[39;00m\n\u001b[0;32m     44\u001b[0m \u001b[38;5;28;01mif\u001b[39;00m \u001b[38;5;28msum\u001b[39m(G\u001b[38;5;241m.\u001b[39mnodes[u]\u001b[38;5;241m.\u001b[39mget(demand, \u001b[38;5;241m0\u001b[39m) \u001b[38;5;28;01mfor\u001b[39;00m u \u001b[38;5;129;01min\u001b[39;00m G) \u001b[38;5;241m!=\u001b[39m \u001b[38;5;241m0\u001b[39m:\n\u001b[1;32m---> 45\u001b[0m     \u001b[38;5;28;01mraise\u001b[39;00m nx\u001b[38;5;241m.\u001b[39mNetworkXUnfeasible(\u001b[38;5;124m\"\u001b[39m\u001b[38;5;124mSum of the demands should be 0.\u001b[39m\u001b[38;5;124m\"\u001b[39m)\n\u001b[0;32m     47\u001b[0m R \u001b[38;5;241m=\u001b[39m nx\u001b[38;5;241m.\u001b[39mMultiDiGraph()\n\u001b[0;32m     48\u001b[0m R\u001b[38;5;241m.\u001b[39madd_nodes_from(\n\u001b[0;32m     49\u001b[0m     (u, {\u001b[38;5;124m\"\u001b[39m\u001b[38;5;124mexcess\u001b[39m\u001b[38;5;124m\"\u001b[39m: \u001b[38;5;241m-\u001b[39mG\u001b[38;5;241m.\u001b[39mnodes[u]\u001b[38;5;241m.\u001b[39mget(demand, \u001b[38;5;241m0\u001b[39m), \u001b[38;5;124m\"\u001b[39m\u001b[38;5;124mpotential\u001b[39m\u001b[38;5;124m\"\u001b[39m: \u001b[38;5;241m0\u001b[39m}) \u001b[38;5;28;01mfor\u001b[39;00m u \u001b[38;5;129;01min\u001b[39;00m G\n\u001b[0;32m     50\u001b[0m )\n",
      "\u001b[1;31mNetworkXUnfeasible\u001b[0m: Sum of the demands should be 0."
     ]
    }
   ],
   "source": [
    "resultado_cs = nx.capacity_scaling(G1, demand = 'demand', capacity = 'capacity', weight = 'weight')"
   ]
  },
  {
   "cell_type": "code",
   "execution_count": null,
   "metadata": {},
   "outputs": [],
   "source": []
  }
 ],
 "metadata": {
  "kernelspec": {
   "display_name": "Python 3",
   "language": "python",
   "name": "python3"
  },
  "language_info": {
   "codemirror_mode": {
    "name": "ipython",
    "version": 3
   },
   "file_extension": ".py",
   "mimetype": "text/x-python",
   "name": "python",
   "nbconvert_exporter": "python",
   "pygments_lexer": "ipython3",
   "version": "3.10.11"
  }
 },
 "nbformat": 4,
 "nbformat_minor": 2
}
